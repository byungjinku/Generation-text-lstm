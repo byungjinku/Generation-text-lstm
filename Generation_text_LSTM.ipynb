{
 "cells": [
  {
   "cell_type": "code",
   "execution_count": 1,
   "metadata": {
    "colab": {},
    "colab_type": "code",
    "id": "Rg8zRgtz1Umm"
   },
   "outputs": [],
   "source": [
    "import pandas as pd\n",
    "from string import punctuation\n",
    "from tensorflow.keras.preprocessing.text import Tokenizer\n",
    "from tensorflow.keras.preprocessing.sequence import pad_sequences\n",
    "import numpy as np\n",
    "from tensorflow.keras.utils import to_categorical"
   ]
  },
  {
   "cell_type": "code",
   "execution_count": 2,
   "metadata": {
    "colab": {
     "base_uri": "https://localhost:8080/",
     "height": 621
    },
    "colab_type": "code",
    "id": "JIItnI531ZWL",
    "outputId": "b49d54ae-eafd-4934-eb1e-83dbd974242b"
   },
   "outputs": [
    {
     "data": {
      "text/html": [
       "<div>\n",
       "<style scoped>\n",
       "    .dataframe tbody tr th:only-of-type {\n",
       "        vertical-align: middle;\n",
       "    }\n",
       "\n",
       "    .dataframe tbody tr th {\n",
       "        vertical-align: top;\n",
       "    }\n",
       "\n",
       "    .dataframe thead th {\n",
       "        text-align: right;\n",
       "    }\n",
       "</style>\n",
       "<table border=\"1\" class=\"dataframe\">\n",
       "  <thead>\n",
       "    <tr style=\"text-align: right;\">\n",
       "      <th></th>\n",
       "      <th>abstract</th>\n",
       "      <th>articleID</th>\n",
       "      <th>articleWordCount</th>\n",
       "      <th>byline</th>\n",
       "      <th>documentType</th>\n",
       "      <th>headline</th>\n",
       "      <th>keywords</th>\n",
       "      <th>multimedia</th>\n",
       "      <th>newDesk</th>\n",
       "      <th>printPage</th>\n",
       "      <th>pubDate</th>\n",
       "      <th>sectionName</th>\n",
       "      <th>snippet</th>\n",
       "      <th>source</th>\n",
       "      <th>typeOfMaterial</th>\n",
       "      <th>webURL</th>\n",
       "    </tr>\n",
       "  </thead>\n",
       "  <tbody>\n",
       "    <tr>\n",
       "      <th>0</th>\n",
       "      <td>NaN</td>\n",
       "      <td>58def1347c459f24986d7c80</td>\n",
       "      <td>716</td>\n",
       "      <td>By STEPHEN HILTNER and SUSAN LEHMAN</td>\n",
       "      <td>article</td>\n",
       "      <td>Finding an Expansive View  of a Forgotten Peop...</td>\n",
       "      <td>['Photography', 'New York Times', 'Niger', 'Fe...</td>\n",
       "      <td>3</td>\n",
       "      <td>Insider</td>\n",
       "      <td>2</td>\n",
       "      <td>2017-04-01 00:15:41</td>\n",
       "      <td>Unknown</td>\n",
       "      <td>One of the largest photo displays in Times his...</td>\n",
       "      <td>The New York Times</td>\n",
       "      <td>News</td>\n",
       "      <td>https://www.nytimes.com/2017/03/31/insider/nig...</td>\n",
       "    </tr>\n",
       "    <tr>\n",
       "      <th>1</th>\n",
       "      <td>NaN</td>\n",
       "      <td>58def3237c459f24986d7c84</td>\n",
       "      <td>823</td>\n",
       "      <td>By GAIL COLLINS</td>\n",
       "      <td>article</td>\n",
       "      <td>And Now,  the Dreaded Trump Curse</td>\n",
       "      <td>['United States Politics and Government', 'Tru...</td>\n",
       "      <td>3</td>\n",
       "      <td>OpEd</td>\n",
       "      <td>23</td>\n",
       "      <td>2017-04-01 00:23:58</td>\n",
       "      <td>Unknown</td>\n",
       "      <td>Meet the gang from under the bus.</td>\n",
       "      <td>The New York Times</td>\n",
       "      <td>Op-Ed</td>\n",
       "      <td>https://www.nytimes.com/2017/03/31/opinion/and...</td>\n",
       "    </tr>\n",
       "    <tr>\n",
       "      <th>2</th>\n",
       "      <td>NaN</td>\n",
       "      <td>58def9f57c459f24986d7c90</td>\n",
       "      <td>575</td>\n",
       "      <td>By THE EDITORIAL BOARD</td>\n",
       "      <td>article</td>\n",
       "      <td>Venezuela’s Descent Into Dictatorship</td>\n",
       "      <td>['Venezuela', 'Politics and Government', 'Madu...</td>\n",
       "      <td>3</td>\n",
       "      <td>Editorial</td>\n",
       "      <td>22</td>\n",
       "      <td>2017-04-01 00:53:06</td>\n",
       "      <td>Unknown</td>\n",
       "      <td>A court ruling annulling the legislature’s aut...</td>\n",
       "      <td>The New York Times</td>\n",
       "      <td>Editorial</td>\n",
       "      <td>https://www.nytimes.com/2017/03/31/opinion/ven...</td>\n",
       "    </tr>\n",
       "    <tr>\n",
       "      <th>3</th>\n",
       "      <td>NaN</td>\n",
       "      <td>58defd317c459f24986d7c95</td>\n",
       "      <td>1374</td>\n",
       "      <td>By MICHAEL POWELL</td>\n",
       "      <td>article</td>\n",
       "      <td>Stain Permeates Basketball Blue Blood</td>\n",
       "      <td>['Basketball (College)', 'University of North ...</td>\n",
       "      <td>3</td>\n",
       "      <td>Sports</td>\n",
       "      <td>1</td>\n",
       "      <td>2017-04-01 01:06:52</td>\n",
       "      <td>College Basketball</td>\n",
       "      <td>For two decades, until 2013, North Carolina en...</td>\n",
       "      <td>The New York Times</td>\n",
       "      <td>News</td>\n",
       "      <td>https://www.nytimes.com/2017/03/31/sports/ncaa...</td>\n",
       "    </tr>\n",
       "    <tr>\n",
       "      <th>4</th>\n",
       "      <td>NaN</td>\n",
       "      <td>58df09b77c459f24986d7ca7</td>\n",
       "      <td>708</td>\n",
       "      <td>By DEB AMLEN</td>\n",
       "      <td>article</td>\n",
       "      <td>Taking Things for Granted</td>\n",
       "      <td>['Crossword Puzzles']</td>\n",
       "      <td>3</td>\n",
       "      <td>Games</td>\n",
       "      <td>0</td>\n",
       "      <td>2017-04-01 02:00:14</td>\n",
       "      <td>Unknown</td>\n",
       "      <td>In which Howard Barkin and Will Shortz teach u...</td>\n",
       "      <td>The New York Times</td>\n",
       "      <td>News</td>\n",
       "      <td>https://www.nytimes.com/2017/03/31/crosswords/...</td>\n",
       "    </tr>\n",
       "  </tbody>\n",
       "</table>\n",
       "</div>"
      ],
      "text/plain": [
       "  abstract                 articleID  articleWordCount  \\\n",
       "0      NaN  58def1347c459f24986d7c80               716   \n",
       "1      NaN  58def3237c459f24986d7c84               823   \n",
       "2      NaN  58def9f57c459f24986d7c90               575   \n",
       "3      NaN  58defd317c459f24986d7c95              1374   \n",
       "4      NaN  58df09b77c459f24986d7ca7               708   \n",
       "\n",
       "                                byline documentType  \\\n",
       "0  By STEPHEN HILTNER and SUSAN LEHMAN      article   \n",
       "1                      By GAIL COLLINS      article   \n",
       "2               By THE EDITORIAL BOARD      article   \n",
       "3                    By MICHAEL POWELL      article   \n",
       "4                         By DEB AMLEN      article   \n",
       "\n",
       "                                            headline  \\\n",
       "0  Finding an Expansive View  of a Forgotten Peop...   \n",
       "1                  And Now,  the Dreaded Trump Curse   \n",
       "2              Venezuela’s Descent Into Dictatorship   \n",
       "3              Stain Permeates Basketball Blue Blood   \n",
       "4                          Taking Things for Granted   \n",
       "\n",
       "                                            keywords  multimedia    newDesk  \\\n",
       "0  ['Photography', 'New York Times', 'Niger', 'Fe...           3    Insider   \n",
       "1  ['United States Politics and Government', 'Tru...           3       OpEd   \n",
       "2  ['Venezuela', 'Politics and Government', 'Madu...           3  Editorial   \n",
       "3  ['Basketball (College)', 'University of North ...           3     Sports   \n",
       "4                              ['Crossword Puzzles']           3      Games   \n",
       "\n",
       "   printPage              pubDate         sectionName  \\\n",
       "0          2  2017-04-01 00:15:41             Unknown   \n",
       "1         23  2017-04-01 00:23:58             Unknown   \n",
       "2         22  2017-04-01 00:53:06             Unknown   \n",
       "3          1  2017-04-01 01:06:52  College Basketball   \n",
       "4          0  2017-04-01 02:00:14             Unknown   \n",
       "\n",
       "                                             snippet              source  \\\n",
       "0  One of the largest photo displays in Times his...  The New York Times   \n",
       "1                  Meet the gang from under the bus.  The New York Times   \n",
       "2  A court ruling annulling the legislature’s aut...  The New York Times   \n",
       "3  For two decades, until 2013, North Carolina en...  The New York Times   \n",
       "4  In which Howard Barkin and Will Shortz teach u...  The New York Times   \n",
       "\n",
       "  typeOfMaterial                                             webURL  \n",
       "0           News  https://www.nytimes.com/2017/03/31/insider/nig...  \n",
       "1          Op-Ed  https://www.nytimes.com/2017/03/31/opinion/and...  \n",
       "2      Editorial  https://www.nytimes.com/2017/03/31/opinion/ven...  \n",
       "3           News  https://www.nytimes.com/2017/03/31/sports/ncaa...  \n",
       "4           News  https://www.nytimes.com/2017/03/31/crosswords/...  "
      ]
     },
     "execution_count": 2,
     "metadata": {},
     "output_type": "execute_result"
    }
   ],
   "source": [
    "df=pd.read_csv('C:/Users/user/Desktop/인공지능 개발자 양성과정/Generation_text_lstm/data/ArticlesApril2017.csv')# 파일의 경로\n",
    "df.head()"
   ]
  },
  {
   "cell_type": "code",
   "execution_count": 3,
   "metadata": {
    "colab": {
     "base_uri": "https://localhost:8080/",
     "height": 111
    },
    "colab_type": "code",
    "id": "YePJUN-_2QAl",
    "outputId": "6a4d7cb4-e2ee-4988-af0d-7dc2e431f4ad"
   },
   "outputs": [
    {
     "name": "stdout",
     "output_type": "stream",
     "text": [
      "열의 개수:  16\n",
      "Index(['abstract', 'articleID', 'articleWordCount', 'byline', 'documentType',\n",
      "       'headline', 'keywords', 'multimedia', 'newDesk', 'printPage', 'pubDate',\n",
      "       'sectionName', 'snippet', 'source', 'typeOfMaterial', 'webURL'],\n",
      "      dtype='object')\n"
     ]
    }
   ],
   "source": [
    "print('열의 개수: ',len(df.columns))\n",
    "print(df.columns)"
   ]
  },
  {
   "cell_type": "code",
   "execution_count": 4,
   "metadata": {
    "colab": {
     "base_uri": "https://localhost:8080/",
     "height": 36
    },
    "colab_type": "code",
    "id": "_ssuC8Gj2R1j",
    "outputId": "a5939532-a2aa-4a2d-dfa0-48667a08c3b6"
   },
   "outputs": [
    {
     "data": {
      "text/plain": [
       "False"
      ]
     },
     "execution_count": 4,
     "metadata": {},
     "output_type": "execute_result"
    }
   ],
   "source": [
    "df['headline'].isnull().values.any()  #sum()"
   ]
  },
  {
   "cell_type": "code",
   "execution_count": 5,
   "metadata": {
    "colab": {
     "base_uri": "https://localhost:8080/",
     "height": 111
    },
    "colab_type": "code",
    "id": "m3nqxFYa2Tj0",
    "outputId": "98dceb72-019d-4855-ce18-1dc43e4715f8"
   },
   "outputs": [
    {
     "data": {
      "text/plain": [
       "['Finding an Expansive View  of a Forgotten People in Niger',\n",
       " 'And Now,  the Dreaded Trump Curse',\n",
       " 'Venezuela’s Descent Into Dictatorship',\n",
       " 'Stain Permeates Basketball Blue Blood',\n",
       " 'Taking Things for Granted']"
      ]
     },
     "execution_count": 5,
     "metadata": {},
     "output_type": "execute_result"
    }
   ],
   "source": [
    "headline = [] # 리스트 선언\n",
    "headline.extend(list(df.headline.values)) # 헤드라인의 값들을 리스트로 저장\n",
    "headline[:5] # 상위 5개만 출력"
   ]
  },
  {
   "cell_type": "code",
   "execution_count": 6,
   "metadata": {
    "colab": {
     "base_uri": "https://localhost:8080/",
     "height": 36
    },
    "colab_type": "code",
    "id": "KuwhltgS2kKb",
    "outputId": "02722de2-bc45-4398-d170-5e561221491c"
   },
   "outputs": [
    {
     "name": "stdout",
     "output_type": "stream",
     "text": [
      "노이즈값 제거 후 샘플의 개수 : 831\n"
     ]
    }
   ],
   "source": [
    "headline = [n for n in headline if n != \"Unknown\"] # Unknown 값을 가진 샘플 제거\n",
    "print('노이즈값 제거 후 샘플의 개수 : {}'.format(len(headline))) # 제거 후 샘플의 개수"
   ]
  },
  {
   "cell_type": "code",
   "execution_count": 7,
   "metadata": {
    "colab": {
     "base_uri": "https://localhost:8080/",
     "height": 111
    },
    "colab_type": "code",
    "id": "Nka9RAtl2yZe",
    "outputId": "ea81668e-2f2f-414c-b10f-f28bc9c08e4b"
   },
   "outputs": [
    {
     "data": {
      "text/plain": [
       "['Finding an Expansive View  of a Forgotten People in Niger',\n",
       " 'And Now,  the Dreaded Trump Curse',\n",
       " 'Venezuela’s Descent Into Dictatorship',\n",
       " 'Stain Permeates Basketball Blue Blood',\n",
       " 'Taking Things for Granted']"
      ]
     },
     "execution_count": 7,
     "metadata": {},
     "output_type": "execute_result"
    }
   ],
   "source": [
    "headline[:5]"
   ]
  },
  {
   "cell_type": "code",
   "execution_count": 8,
   "metadata": {
    "colab": {
     "base_uri": "https://localhost:8080/",
     "height": 111
    },
    "colab_type": "code",
    "id": "NjYIo7Fp22Ls",
    "outputId": "0199bb68-15c8-44d6-b969-466b5577264a"
   },
   "outputs": [
    {
     "data": {
      "text/plain": [
       "['finding an expansive view  of a forgotten people in niger',\n",
       " 'and now  the dreaded trump curse',\n",
       " 'venezuelas descent into dictatorship',\n",
       " 'stain permeates basketball blue blood',\n",
       " 'taking things for granted']"
      ]
     },
     "execution_count": 8,
     "metadata": {},
     "output_type": "execute_result"
    }
   ],
   "source": [
    "def repreprocessing(s):\n",
    "    s=s.encode(\"utf8\").decode(\"ascii\",'ignore')\n",
    "    return ''.join(c for c in s \n",
    "                  if c not in punctuation).lower() # 구두점 제거와 동시에 소문자화\n",
    "\n",
    "text = [repreprocessing(x) for x in headline]\n",
    "text[:5]"
   ]
  },
  {
   "cell_type": "code",
   "execution_count": 9,
   "metadata": {
    "colab": {
     "base_uri": "https://localhost:8080/",
     "height": 36
    },
    "colab_type": "code",
    "id": "-377aTar3N86",
    "outputId": "994311c1-6f5a-41ef-e2f2-6b0db2620123"
   },
   "outputs": [
    {
     "name": "stdout",
     "output_type": "stream",
     "text": [
      "단어 집합의 크기 : 2422\n"
     ]
    }
   ],
   "source": [
    "t = Tokenizer()\n",
    "t.fit_on_texts(text)\n",
    "vocab_size = len(t.word_index) + 1\n",
    "print('단어 집합의 크기 : %d' % vocab_size)"
   ]
  },
  {
   "cell_type": "code",
   "execution_count": 10,
   "metadata": {
    "colab": {
     "base_uri": "https://localhost:8080/",
     "height": 223
    },
    "colab_type": "code",
    "id": "6bKCfVjE3QMI",
    "outputId": "25783f00-9a9b-4c0b-8fb0-31420fcda588"
   },
   "outputs": [
    {
     "data": {
      "text/plain": [
       "[[169, 17],\n",
       " [169, 17, 665],\n",
       " [169, 17, 665, 367],\n",
       " [169, 17, 665, 367, 4],\n",
       " [169, 17, 665, 367, 4, 2],\n",
       " [169, 17, 665, 367, 4, 2, 666],\n",
       " [169, 17, 665, 367, 4, 2, 666, 170],\n",
       " [169, 17, 665, 367, 4, 2, 666, 170, 5],\n",
       " [169, 17, 665, 367, 4, 2, 666, 170, 5, 667],\n",
       " [6, 80],\n",
       " [6, 80, 1]]"
      ]
     },
     "execution_count": 10,
     "metadata": {},
     "output_type": "execute_result"
    }
   ],
   "source": [
    "sequences = list()\n",
    "\n",
    "for line in text: # 1,214 개의 샘플에 대해서 샘플을 1개씩 가져온다.\n",
    "    encoded = t.texts_to_sequences([line])[0] # 각 샘플에 대한 정수 인코딩\n",
    "    for i in range(1, len(encoded)):\n",
    "        sequence = encoded[:i+1]\n",
    "        sequences.append(sequence)\n",
    "\n",
    "sequences[:11] # 11개의 샘플 출력"
   ]
  },
  {
   "cell_type": "markdown",
   "metadata": {
    "colab_type": "text",
    "id": "0y8oxP9H4IFd"
   },
   "source": []
  },
  {
   "cell_type": "code",
   "execution_count": 11,
   "metadata": {
    "colab": {
     "base_uri": "https://localhost:8080/",
     "height": 36
    },
    "colab_type": "code",
    "id": "sl-7mZsW3YN1",
    "outputId": "cbdd14b7-b179-4d9a-b028-0caa84910f55"
   },
   "outputs": [
    {
     "name": "stdout",
     "output_type": "stream",
     "text": [
      "빈도수 상위 582번 단어 : exist\n"
     ]
    }
   ],
   "source": [
    "index_to_word={}\n",
    "for key, value in t.word_index.items(): # 인덱스를 단어로 바꾸기 위해 index_to_word를 생성\n",
    "    index_to_word[value] = key\n",
    "\n",
    "print('빈도수 상위 582번 단어 : {}'.format(index_to_word[582]))"
   ]
  },
  {
   "cell_type": "code",
   "execution_count": 12,
   "metadata": {
    "colab": {
     "base_uri": "https://localhost:8080/",
     "height": 36
    },
    "colab_type": "code",
    "id": "8MxVb_Rh3u86",
    "outputId": "c1216ef0-9ad2-405c-86d4-826945a7e7f0"
   },
   "outputs": [
    {
     "name": "stdout",
     "output_type": "stream",
     "text": [
      "샘플의 최대 길이 : 19\n"
     ]
    }
   ],
   "source": [
    "max_len=max(len(l) for l in sequences)\n",
    "print('샘플의 최대 길이 : {}'.format(max_len))"
   ]
  },
  {
   "cell_type": "code",
   "execution_count": 13,
   "metadata": {
    "colab": {
     "base_uri": "https://localhost:8080/",
     "height": 129
    },
    "colab_type": "code",
    "id": "XeZOprrT3xi8",
    "outputId": "31bdc8f9-91b1-480d-d733-4f7c21427b9c"
   },
   "outputs": [
    {
     "name": "stdout",
     "output_type": "stream",
     "text": [
      "[[  0   0   0   0   0   0   0   0   0   0   0   0   0   0   0   0   0 169\n",
      "   17]\n",
      " [  0   0   0   0   0   0   0   0   0   0   0   0   0   0   0   0 169  17\n",
      "  665]\n",
      " [  0   0   0   0   0   0   0   0   0   0   0   0   0   0   0 169  17 665\n",
      "  367]]\n"
     ]
    }
   ],
   "source": [
    "sequences = pad_sequences(sequences, maxlen=max_len, padding='pre')\n",
    "print(sequences[:3])"
   ]
  },
  {
   "cell_type": "code",
   "execution_count": 14,
   "metadata": {
    "colab": {},
    "colab_type": "code",
    "id": "wlYTe1SO3z3M"
   },
   "outputs": [],
   "source": [
    "sequences = np.array(sequences)\n",
    "X = sequences[:,:-1]\n",
    "y = sequences[:,-1]"
   ]
  },
  {
   "cell_type": "code",
   "execution_count": 15,
   "metadata": {
    "colab": {
     "base_uri": "https://localhost:8080/",
     "height": 73
    },
    "colab_type": "code",
    "id": "hoxA-YL431og",
    "outputId": "ea5920de-ca9f-4a6c-e5e8-542550865152"
   },
   "outputs": [
    {
     "name": "stdout",
     "output_type": "stream",
     "text": [
      "[[  0   0   0   0   0   0   0   0   0   0   0   0   0   0   0   0   0 169]\n",
      " [  0   0   0   0   0   0   0   0   0   0   0   0   0   0   0   0 169  17]\n",
      " [  0   0   0   0   0   0   0   0   0   0   0   0   0   0   0 169  17 665]]\n"
     ]
    }
   ],
   "source": [
    "print(X[:3])"
   ]
  },
  {
   "cell_type": "code",
   "execution_count": 16,
   "metadata": {
    "colab": {
     "base_uri": "https://localhost:8080/",
     "height": 36
    },
    "colab_type": "code",
    "id": "8sHZIcXz32wf",
    "outputId": "c41d7c62-4e50-45c0-a616-1f92d64018a8"
   },
   "outputs": [
    {
     "name": "stdout",
     "output_type": "stream",
     "text": [
      "[ 17 665 367]\n"
     ]
    }
   ],
   "source": [
    "print(y[:3]) # 레이블"
   ]
  },
  {
   "cell_type": "code",
   "execution_count": 17,
   "metadata": {
    "colab": {},
    "colab_type": "code",
    "id": "rI046ghY336E"
   },
   "outputs": [],
   "source": [
    "y = to_categorical(y, num_classes=vocab_size)"
   ]
  },
  {
   "cell_type": "code",
   "execution_count": 18,
   "metadata": {
    "colab": {},
    "colab_type": "code",
    "id": "RGZEADSY35bp"
   },
   "outputs": [],
   "source": [
    "from tensorflow.keras.models import Sequential\n",
    "from tensorflow.keras.layers import Embedding, Dense, LSTM"
   ]
  },
  {
   "cell_type": "code",
   "execution_count": 19,
   "metadata": {
    "colab": {
     "base_uri": "https://localhost:8080/",
     "height": 1000
    },
    "colab_type": "code",
    "id": "iCBxyijg37tO",
    "outputId": "932d922b-1961-4389-ea19-e7626b483568"
   },
   "outputs": [
    {
     "name": "stdout",
     "output_type": "stream",
     "text": [
      "Epoch 1/200\n",
      "151/151 - 2s - loss: 7.4055 - accuracy: 0.0293\n",
      "Epoch 2/200\n",
      "151/151 - 2s - loss: 6.9145 - accuracy: 0.0289\n",
      "Epoch 3/200\n",
      "151/151 - 2s - loss: 6.7926 - accuracy: 0.0312\n",
      "Epoch 4/200\n",
      "151/151 - 2s - loss: 6.7038 - accuracy: 0.0323\n",
      "Epoch 5/200\n",
      "151/151 - 2s - loss: 6.6029 - accuracy: 0.0422\n",
      "Epoch 6/200\n",
      "151/151 - 2s - loss: 6.4814 - accuracy: 0.0454\n",
      "Epoch 7/200\n",
      "151/151 - 2s - loss: 6.3466 - accuracy: 0.0479\n",
      "Epoch 8/200\n",
      "151/151 - 2s - loss: 6.1970 - accuracy: 0.0518\n",
      "Epoch 9/200\n",
      "151/151 - 2s - loss: 6.0368 - accuracy: 0.0508\n",
      "Epoch 10/200\n",
      "151/151 - 2s - loss: 5.8769 - accuracy: 0.0566\n",
      "Epoch 11/200\n",
      "151/151 - 2s - loss: 5.7204 - accuracy: 0.0585\n",
      "Epoch 12/200\n",
      "151/151 - 2s - loss: 5.5694 - accuracy: 0.0641\n",
      "Epoch 13/200\n",
      "151/151 - 2s - loss: 5.4265 - accuracy: 0.0682\n",
      "Epoch 14/200\n",
      "151/151 - 2s - loss: 5.2881 - accuracy: 0.0728\n",
      "Epoch 15/200\n",
      "151/151 - 2s - loss: 5.1543 - accuracy: 0.0755\n",
      "Epoch 16/200\n",
      "151/151 - 2s - loss: 5.0261 - accuracy: 0.0814\n",
      "Epoch 17/200\n",
      "151/151 - 2s - loss: 4.9008 - accuracy: 0.0891\n",
      "Epoch 18/200\n",
      "151/151 - 2s - loss: 4.7824 - accuracy: 0.0953\n",
      "Epoch 19/200\n",
      "151/151 - 2s - loss: 4.6627 - accuracy: 0.1076\n",
      "Epoch 20/200\n",
      "151/151 - 2s - loss: 4.5491 - accuracy: 0.1207\n",
      "Epoch 21/200\n",
      "151/151 - 2s - loss: 4.4332 - accuracy: 0.1380\n",
      "Epoch 22/200\n",
      "151/151 - 2s - loss: 4.3252 - accuracy: 0.1477\n",
      "Epoch 23/200\n",
      "151/151 - 2s - loss: 4.2180 - accuracy: 0.1644\n",
      "Epoch 24/200\n",
      "151/151 - 2s - loss: 4.1129 - accuracy: 0.1835\n",
      "Epoch 25/200\n",
      "151/151 - 2s - loss: 4.0136 - accuracy: 0.1981\n",
      "Epoch 26/200\n",
      "151/151 - 2s - loss: 3.9155 - accuracy: 0.2179\n",
      "Epoch 27/200\n",
      "151/151 - 2s - loss: 3.8180 - accuracy: 0.2312\n",
      "Epoch 28/200\n",
      "151/151 - 2s - loss: 3.7259 - accuracy: 0.2514\n",
      "Epoch 29/200\n",
      "151/151 - 2s - loss: 3.6349 - accuracy: 0.2651\n",
      "Epoch 30/200\n",
      "151/151 - 2s - loss: 3.5476 - accuracy: 0.2824\n",
      "Epoch 31/200\n",
      "151/151 - 2s - loss: 3.4612 - accuracy: 0.2998\n",
      "Epoch 32/200\n",
      "151/151 - 2s - loss: 3.3793 - accuracy: 0.3115\n",
      "Epoch 33/200\n",
      "151/151 - 2s - loss: 3.2995 - accuracy: 0.3219\n",
      "Epoch 34/200\n",
      "151/151 - 2s - loss: 3.2228 - accuracy: 0.3367\n",
      "Epoch 35/200\n",
      "151/151 - 2s - loss: 3.1486 - accuracy: 0.3548\n",
      "Epoch 36/200\n",
      "151/151 - 2s - loss: 3.0775 - accuracy: 0.3687\n",
      "Epoch 37/200\n",
      "151/151 - 2s - loss: 3.0074 - accuracy: 0.3714\n",
      "Epoch 38/200\n",
      "151/151 - 2s - loss: 2.9403 - accuracy: 0.3845\n",
      "Epoch 39/200\n",
      "151/151 - 2s - loss: 2.8719 - accuracy: 0.4051\n",
      "Epoch 40/200\n",
      "151/151 - 2s - loss: 2.8124 - accuracy: 0.4147\n",
      "Epoch 41/200\n",
      "151/151 - 2s - loss: 2.7486 - accuracy: 0.4268\n",
      "Epoch 42/200\n",
      "151/151 - 2s - loss: 2.6850 - accuracy: 0.4376\n",
      "Epoch 43/200\n",
      "151/151 - 2s - loss: 2.6320 - accuracy: 0.4465\n",
      "Epoch 44/200\n",
      "151/151 - 2s - loss: 2.5730 - accuracy: 0.4594\n",
      "Epoch 45/200\n",
      "151/151 - 2s - loss: 2.5188 - accuracy: 0.4686\n",
      "Epoch 46/200\n",
      "151/151 - 2s - loss: 2.4653 - accuracy: 0.4754\n",
      "Epoch 47/200\n",
      "151/151 - 2s - loss: 2.4168 - accuracy: 0.4886\n",
      "Epoch 48/200\n",
      "151/151 - 2s - loss: 2.3630 - accuracy: 0.4998\n",
      "Epoch 49/200\n",
      "151/151 - 2s - loss: 2.3143 - accuracy: 0.5198\n",
      "Epoch 50/200\n",
      "151/151 - 2s - loss: 2.2653 - accuracy: 0.5169\n",
      "Epoch 51/200\n",
      "151/151 - 2s - loss: 2.2197 - accuracy: 0.5331\n",
      "Epoch 52/200\n",
      "151/151 - 2s - loss: 2.1730 - accuracy: 0.5429\n",
      "Epoch 53/200\n",
      "151/151 - 2s - loss: 2.1309 - accuracy: 0.5501\n",
      "Epoch 54/200\n",
      "151/151 - 2s - loss: 2.0893 - accuracy: 0.5581\n",
      "Epoch 55/200\n",
      "151/151 - 2s - loss: 2.0457 - accuracy: 0.5718\n",
      "Epoch 56/200\n",
      "151/151 - 2s - loss: 2.0042 - accuracy: 0.5755\n",
      "Epoch 57/200\n",
      "151/151 - 2s - loss: 1.9639 - accuracy: 0.5859\n",
      "Epoch 58/200\n",
      "151/151 - 2s - loss: 1.9261 - accuracy: 0.5924\n",
      "Epoch 59/200\n",
      "151/151 - 2s - loss: 1.8876 - accuracy: 0.6028\n",
      "Epoch 60/200\n",
      "151/151 - 2s - loss: 1.8505 - accuracy: 0.6065\n",
      "Epoch 61/200\n",
      "151/151 - 2s - loss: 1.8155 - accuracy: 0.6130\n",
      "Epoch 62/200\n",
      "151/151 - 2s - loss: 1.7790 - accuracy: 0.6215\n",
      "Epoch 63/200\n",
      "151/151 - 2s - loss: 1.7458 - accuracy: 0.6286\n",
      "Epoch 64/200\n",
      "151/151 - 2s - loss: 1.7133 - accuracy: 0.6334\n",
      "Epoch 65/200\n",
      "151/151 - 2s - loss: 1.6790 - accuracy: 0.6475\n",
      "Epoch 66/200\n",
      "151/151 - 2s - loss: 1.6485 - accuracy: 0.6529\n",
      "Epoch 67/200\n",
      "151/151 - 2s - loss: 1.6161 - accuracy: 0.6621\n",
      "Epoch 68/200\n",
      "151/151 - 2s - loss: 1.5845 - accuracy: 0.6663\n",
      "Epoch 69/200\n",
      "151/151 - 2s - loss: 1.5504 - accuracy: 0.6773\n",
      "Epoch 70/200\n",
      "151/151 - 2s - loss: 1.5226 - accuracy: 0.6779\n",
      "Epoch 71/200\n",
      "151/151 - 2s - loss: 1.4911 - accuracy: 0.6914\n",
      "Epoch 72/200\n",
      "151/151 - 2s - loss: 1.4627 - accuracy: 0.6935\n",
      "Epoch 73/200\n",
      "151/151 - 2s - loss: 1.4371 - accuracy: 0.6985\n",
      "Epoch 74/200\n",
      "151/151 - 2s - loss: 1.4093 - accuracy: 0.7072\n",
      "Epoch 75/200\n",
      "151/151 - 2s - loss: 1.3837 - accuracy: 0.7114\n",
      "Epoch 76/200\n",
      "151/151 - 2s - loss: 1.3572 - accuracy: 0.7172\n",
      "Epoch 77/200\n",
      "151/151 - 2s - loss: 1.3318 - accuracy: 0.7228\n",
      "Epoch 78/200\n",
      "151/151 - 2s - loss: 1.3041 - accuracy: 0.7316\n",
      "Epoch 79/200\n",
      "151/151 - 2s - loss: 1.2786 - accuracy: 0.7330\n",
      "Epoch 80/200\n",
      "151/151 - 2s - loss: 1.2535 - accuracy: 0.7401\n",
      "Epoch 81/200\n",
      "151/151 - 2s - loss: 1.2309 - accuracy: 0.7476\n",
      "Epoch 82/200\n",
      "151/151 - 2s - loss: 1.2070 - accuracy: 0.7514\n",
      "Epoch 83/200\n",
      "151/151 - 2s - loss: 1.1844 - accuracy: 0.7545\n",
      "Epoch 84/200\n",
      "151/151 - 2s - loss: 1.1635 - accuracy: 0.7611\n",
      "Epoch 85/200\n",
      "151/151 - 2s - loss: 1.1406 - accuracy: 0.7601\n",
      "Epoch 86/200\n",
      "151/151 - 2s - loss: 1.1165 - accuracy: 0.7709\n",
      "Epoch 87/200\n",
      "151/151 - 2s - loss: 1.0962 - accuracy: 0.7734\n",
      "Epoch 88/200\n",
      "151/151 - 2s - loss: 1.0763 - accuracy: 0.7778\n",
      "Epoch 89/200\n",
      "151/151 - 2s - loss: 1.0546 - accuracy: 0.7857\n",
      "Epoch 90/200\n",
      "151/151 - 2s - loss: 1.0333 - accuracy: 0.7878\n",
      "Epoch 91/200\n",
      "151/151 - 2s - loss: 1.0159 - accuracy: 0.7896\n",
      "Epoch 92/200\n",
      "151/151 - 2s - loss: 0.9946 - accuracy: 0.7957\n",
      "Epoch 93/200\n",
      "151/151 - 2s - loss: 0.9760 - accuracy: 0.7984\n",
      "Epoch 94/200\n",
      "151/151 - 2s - loss: 0.9557 - accuracy: 0.8002\n",
      "Epoch 95/200\n",
      "151/151 - 2s - loss: 0.9361 - accuracy: 0.8059\n",
      "Epoch 96/200\n",
      "151/151 - 2s - loss: 0.9200 - accuracy: 0.8098\n",
      "Epoch 97/200\n",
      "151/151 - 2s - loss: 0.9029 - accuracy: 0.8167\n",
      "Epoch 98/200\n",
      "151/151 - 2s - loss: 0.8850 - accuracy: 0.8188\n",
      "Epoch 99/200\n",
      "151/151 - 2s - loss: 0.8687 - accuracy: 0.8213\n",
      "Epoch 100/200\n",
      "151/151 - 2s - loss: 0.8534 - accuracy: 0.8256\n",
      "Epoch 101/200\n",
      "151/151 - 2s - loss: 0.8358 - accuracy: 0.8254\n",
      "Epoch 102/200\n",
      "151/151 - 2s - loss: 0.8185 - accuracy: 0.8302\n",
      "Epoch 103/200\n",
      "151/151 - 2s - loss: 0.8011 - accuracy: 0.8362\n",
      "Epoch 104/200\n",
      "151/151 - 2s - loss: 0.7898 - accuracy: 0.8344\n",
      "Epoch 105/200\n",
      "151/151 - 2s - loss: 0.7747 - accuracy: 0.8429\n",
      "Epoch 106/200\n",
      "151/151 - 2s - loss: 0.7574 - accuracy: 0.8462\n",
      "Epoch 107/200\n",
      "151/151 - 2s - loss: 0.7432 - accuracy: 0.8475\n",
      "Epoch 108/200\n",
      "151/151 - 2s - loss: 0.7327 - accuracy: 0.8504\n",
      "Epoch 109/200\n",
      "151/151 - 2s - loss: 0.7167 - accuracy: 0.8512\n",
      "Epoch 110/200\n",
      "151/151 - 2s - loss: 0.7038 - accuracy: 0.8568\n",
      "Epoch 111/200\n",
      "151/151 - 2s - loss: 0.6905 - accuracy: 0.8554\n",
      "Epoch 112/200\n",
      "151/151 - 2s - loss: 0.6792 - accuracy: 0.8585\n",
      "Epoch 113/200\n",
      "151/151 - 2s - loss: 0.6656 - accuracy: 0.8618\n",
      "Epoch 114/200\n",
      "151/151 - 2s - loss: 0.6530 - accuracy: 0.8643\n",
      "Epoch 115/200\n",
      "151/151 - 2s - loss: 0.6432 - accuracy: 0.8627\n",
      "Epoch 116/200\n",
      "151/151 - 2s - loss: 0.6334 - accuracy: 0.8656\n",
      "Epoch 117/200\n",
      "151/151 - 2s - loss: 0.6207 - accuracy: 0.8662\n",
      "Epoch 118/200\n",
      "151/151 - 2s - loss: 0.6107 - accuracy: 0.8700\n",
      "Epoch 119/200\n",
      "151/151 - 2s - loss: 0.6016 - accuracy: 0.8714\n",
      "Epoch 120/200\n",
      "151/151 - 2s - loss: 0.5903 - accuracy: 0.8716\n",
      "Epoch 121/200\n",
      "151/151 - 2s - loss: 0.5832 - accuracy: 0.8737\n",
      "Epoch 122/200\n",
      "151/151 - 2s - loss: 0.5725 - accuracy: 0.8743\n",
      "Epoch 123/200\n",
      "151/151 - 2s - loss: 0.5597 - accuracy: 0.8797\n",
      "Epoch 124/200\n",
      "151/151 - 2s - loss: 0.5505 - accuracy: 0.8799\n",
      "Epoch 125/200\n",
      "151/151 - 2s - loss: 0.5405 - accuracy: 0.8841\n",
      "Epoch 126/200\n",
      "151/151 - 2s - loss: 0.5331 - accuracy: 0.8872\n",
      "Epoch 127/200\n",
      "151/151 - 2s - loss: 0.5258 - accuracy: 0.8868\n",
      "Epoch 128/200\n",
      "151/151 - 2s - loss: 0.5164 - accuracy: 0.8860\n",
      "Epoch 129/200\n",
      "151/151 - 2s - loss: 0.5086 - accuracy: 0.8881\n",
      "Epoch 130/200\n",
      "151/151 - 2s - loss: 0.5008 - accuracy: 0.8906\n",
      "Epoch 131/200\n",
      "151/151 - 2s - loss: 0.4916 - accuracy: 0.8916\n",
      "Epoch 132/200\n",
      "151/151 - 2s - loss: 0.4834 - accuracy: 0.8926\n",
      "Epoch 133/200\n",
      "151/151 - 2s - loss: 0.4791 - accuracy: 0.8922\n",
      "Epoch 134/200\n",
      "151/151 - 2s - loss: 0.4731 - accuracy: 0.8935\n",
      "Epoch 135/200\n",
      "151/151 - 2s - loss: 0.4644 - accuracy: 0.8939\n",
      "Epoch 136/200\n",
      "151/151 - 2s - loss: 0.4582 - accuracy: 0.8933\n",
      "Epoch 137/200\n",
      "151/151 - 2s - loss: 0.4510 - accuracy: 0.8955\n",
      "Epoch 138/200\n",
      "151/151 - 2s - loss: 0.4483 - accuracy: 0.8945\n",
      "Epoch 139/200\n",
      "151/151 - 2s - loss: 0.4420 - accuracy: 0.8962\n",
      "Epoch 140/200\n",
      "151/151 - 2s - loss: 0.4386 - accuracy: 0.8972\n",
      "Epoch 141/200\n",
      "151/151 - 2s - loss: 0.4305 - accuracy: 0.8987\n",
      "Epoch 142/200\n",
      "151/151 - 2s - loss: 0.4224 - accuracy: 0.8958\n",
      "Epoch 143/200\n",
      "151/151 - 2s - loss: 0.4163 - accuracy: 0.8976\n",
      "Epoch 144/200\n",
      "151/151 - 2s - loss: 0.4117 - accuracy: 0.8989\n",
      "Epoch 145/200\n",
      "151/151 - 2s - loss: 0.4057 - accuracy: 0.9005\n",
      "Epoch 146/200\n",
      "151/151 - 2s - loss: 0.4002 - accuracy: 0.8991\n",
      "Epoch 147/200\n",
      "151/151 - 2s - loss: 0.3982 - accuracy: 0.8997\n",
      "Epoch 148/200\n",
      "151/151 - 2s - loss: 0.3911 - accuracy: 0.9039\n",
      "Epoch 149/200\n",
      "151/151 - 2s - loss: 0.3866 - accuracy: 0.9014\n",
      "Epoch 150/200\n",
      "151/151 - 2s - loss: 0.3815 - accuracy: 0.9014\n",
      "Epoch 151/200\n",
      "151/151 - 2s - loss: 0.3793 - accuracy: 0.9032\n",
      "Epoch 152/200\n",
      "151/151 - 2s - loss: 0.3758 - accuracy: 0.9037\n",
      "Epoch 153/200\n",
      "151/151 - 2s - loss: 0.3709 - accuracy: 0.9045\n",
      "Epoch 154/200\n",
      "151/151 - 2s - loss: 0.3653 - accuracy: 0.9051\n",
      "Epoch 155/200\n",
      "151/151 - 2s - loss: 0.3623 - accuracy: 0.9035\n",
      "Epoch 156/200\n",
      "151/151 - 2s - loss: 0.3580 - accuracy: 0.9060\n",
      "Epoch 157/200\n",
      "151/151 - 2s - loss: 0.3541 - accuracy: 0.9064\n",
      "Epoch 158/200\n",
      "151/151 - 2s - loss: 0.3515 - accuracy: 0.9064\n",
      "Epoch 159/200\n",
      "151/151 - 2s - loss: 0.3479 - accuracy: 0.9039\n",
      "Epoch 160/200\n",
      "151/151 - 2s - loss: 0.3473 - accuracy: 0.9062\n",
      "Epoch 161/200\n",
      "151/151 - 2s - loss: 0.3543 - accuracy: 0.9043\n",
      "Epoch 162/200\n",
      "151/151 - 2s - loss: 0.3601 - accuracy: 0.9012\n",
      "Epoch 163/200\n",
      "151/151 - 2s - loss: 0.3417 - accuracy: 0.9064\n",
      "Epoch 164/200\n",
      "151/151 - 2s - loss: 0.3359 - accuracy: 0.9078\n",
      "Epoch 165/200\n",
      "151/151 - 2s - loss: 0.3311 - accuracy: 0.9064\n",
      "Epoch 166/200\n",
      "151/151 - 2s - loss: 0.3289 - accuracy: 0.9070\n",
      "Epoch 167/200\n",
      "151/151 - 2s - loss: 0.3245 - accuracy: 0.9070\n",
      "Epoch 168/200\n",
      "151/151 - 2s - loss: 0.3264 - accuracy: 0.9080\n",
      "Epoch 169/200\n",
      "151/151 - 2s - loss: 0.3211 - accuracy: 0.9076\n",
      "Epoch 170/200\n",
      "151/151 - 2s - loss: 0.3210 - accuracy: 0.9062\n",
      "Epoch 171/200\n",
      "151/151 - 2s - loss: 0.3179 - accuracy: 0.9074\n",
      "Epoch 172/200\n",
      "151/151 - 2s - loss: 0.3152 - accuracy: 0.9057\n",
      "Epoch 173/200\n",
      "151/151 - 2s - loss: 0.3127 - accuracy: 0.9068\n",
      "Epoch 174/200\n",
      "151/151 - 2s - loss: 0.3138 - accuracy: 0.9072\n",
      "Epoch 175/200\n",
      "151/151 - 2s - loss: 0.3105 - accuracy: 0.9074\n",
      "Epoch 176/200\n",
      "151/151 - 2s - loss: 0.3156 - accuracy: 0.9074\n",
      "Epoch 177/200\n",
      "151/151 - 2s - loss: 0.3121 - accuracy: 0.9084\n",
      "Epoch 178/200\n",
      "151/151 - 2s - loss: 0.3067 - accuracy: 0.9068\n",
      "Epoch 179/200\n",
      "151/151 - 2s - loss: 0.3045 - accuracy: 0.9087\n",
      "Epoch 180/200\n",
      "151/151 - 2s - loss: 0.3037 - accuracy: 0.9084\n",
      "Epoch 181/200\n",
      "151/151 - 2s - loss: 0.3010 - accuracy: 0.9084\n",
      "Epoch 182/200\n",
      "151/151 - 2s - loss: 0.2995 - accuracy: 0.9068\n",
      "Epoch 183/200\n",
      "151/151 - 2s - loss: 0.2979 - accuracy: 0.9084\n",
      "Epoch 184/200\n",
      "151/151 - 2s - loss: 0.2976 - accuracy: 0.9074\n",
      "Epoch 185/200\n",
      "151/151 - 2s - loss: 0.2956 - accuracy: 0.9101\n",
      "Epoch 186/200\n",
      "151/151 - 2s - loss: 0.2953 - accuracy: 0.9072\n",
      "Epoch 187/200\n",
      "151/151 - 2s - loss: 0.2950 - accuracy: 0.9066\n",
      "Epoch 188/200\n",
      "151/151 - 2s - loss: 0.2935 - accuracy: 0.9078\n",
      "Epoch 189/200\n",
      "151/151 - 2s - loss: 0.2922 - accuracy: 0.9049\n",
      "Epoch 190/200\n",
      "151/151 - 2s - loss: 0.2914 - accuracy: 0.9070\n",
      "Epoch 191/200\n",
      "151/151 - 2s - loss: 0.2906 - accuracy: 0.9070\n",
      "Epoch 192/200\n",
      "151/151 - 2s - loss: 0.2983 - accuracy: 0.9049\n",
      "Epoch 193/200\n",
      "151/151 - 2s - loss: 0.2929 - accuracy: 0.9084\n",
      "Epoch 194/200\n",
      "151/151 - 2s - loss: 0.2899 - accuracy: 0.9078\n",
      "Epoch 195/200\n",
      "151/151 - 2s - loss: 0.2875 - accuracy: 0.9091\n",
      "Epoch 196/200\n",
      "151/151 - 2s - loss: 0.2843 - accuracy: 0.9082\n",
      "Epoch 197/200\n",
      "151/151 - 2s - loss: 0.2853 - accuracy: 0.9068\n",
      "Epoch 198/200\n",
      "151/151 - 2s - loss: 0.2854 - accuracy: 0.9078\n",
      "Epoch 199/200\n",
      "151/151 - 2s - loss: 0.2817 - accuracy: 0.9084\n",
      "Epoch 200/200\n",
      "151/151 - 2s - loss: 0.2822 - accuracy: 0.9068\n"
     ]
    },
    {
     "data": {
      "text/plain": [
       "<tensorflow.python.keras.callbacks.History at 0x2133c36c108>"
      ]
     },
     "execution_count": 19,
     "metadata": {},
     "output_type": "execute_result"
    }
   ],
   "source": [
    "model = Sequential()\n",
    "model.add(Embedding(vocab_size, 10, input_length=max_len-1))\n",
    "# y데이터를 분리하였으므로 이제 X데이터의 길이는 기존 데이터의 길이 - 1\n",
    "model.add(LSTM(128))\n",
    "model.add(Dense(vocab_size, activation='softmax'))\n",
    "model.compile(loss='categorical_crossentropy', optimizer='adam', metrics=['accuracy'])\n",
    "model.fit(X, y, epochs=200, verbose=2)"
   ]
  },
  {
   "cell_type": "code",
   "execution_count": 20,
   "metadata": {
    "colab": {},
    "colab_type": "code",
    "id": "kvlofjoi387V"
   },
   "outputs": [],
   "source": [
    "def sentence_generation(model, t, current_word, n): # 모델, 토크나이저, 현재 단어, 반복할 횟수\n",
    "    init_word = current_word # 처음 들어온 단어도 마지막에 같이 출력하기위해 저장\n",
    "    sentence = ''\n",
    "    for _ in range(n): # n번 반복\n",
    "        encoded = t.texts_to_sequences([current_word])[0] # 현재 단어에 대한 정수 인코딩\n",
    "        encoded = pad_sequences([encoded], maxlen=23, padding='pre') # 데이터에 대한 패딩\n",
    "        result = model.predict_classes(encoded, verbose=0)\n",
    "    # 입력한 X(현재 단어)에 대해서 y를 예측하고 y(예측한 단어)를 result에 저장.\n",
    "        for word, index in t.word_index.items(): \n",
    "            if index == result: # 만약 예측한 단어와 인덱스와 동일한 단어가 있다면\n",
    "                break # 해당 단어가 예측 단어이므로 break\n",
    "        current_word = current_word + ' '  + word # 현재 단어 + ' ' + 예측 단어를 현재 단어로 변경\n",
    "        sentence = sentence + ' ' + word # 예측 단어를 문장에 저장\n",
    "    # for문이므로 이 행동을 다시 반복\n",
    "    sentence = init_word + sentence\n",
    "    return sentence"
   ]
  },
  {
   "cell_type": "code",
   "execution_count": 21,
   "metadata": {
    "colab": {
     "base_uri": "https://localhost:8080/",
     "height": 36
    },
    "colab_type": "code",
    "id": "O1Rbqhen3-dr",
    "outputId": "9c14ef49-fbe6-4e92-dff5-a2a44195e2cb"
   },
   "outputs": [
    {
     "name": "stdout",
     "output_type": "stream",
     "text": [
      "WARNING:tensorflow:From <ipython-input-20-4fcb1994ebdf>:7: Sequential.predict_classes (from tensorflow.python.keras.engine.sequential) is deprecated and will be removed after 2021-01-01.\n",
      "Instructions for updating:\n",
      "Please use instead:* `np.argmax(model.predict(x), axis=-1)`,   if your model does multi-class classification   (e.g. if it uses a `softmax` last-layer activation).* `(model.predict(x) > 0.5).astype(\"int32\")`,   if your model does binary classification   (e.g. if it uses a `sigmoid` last-layer activation).\n",
      "WARNING:tensorflow:Model was constructed with shape (None, 18) for input Tensor(\"embedding_input:0\", shape=(None, 18), dtype=float32), but it was called on an input with incompatible shape (None, 23).\n",
      "i survived a sarin gas attack a zebra and as the\n"
     ]
    }
   ],
   "source": [
    "print(sentence_generation(model, t, 'i', 10))\n",
    "# 임의의 단어 'i'에 대해서 10개의 단어를 추가 생성"
   ]
  },
  {
   "cell_type": "code",
   "execution_count": 22,
   "metadata": {
    "colab": {
     "base_uri": "https://localhost:8080/",
     "height": 36
    },
    "colab_type": "code",
    "id": "2UZhKEkS4A-h",
    "outputId": "2597fd94-6610-42c1-974e-e37fe18b06c5"
   },
   "outputs": [
    {
     "name": "stdout",
     "output_type": "stream",
     "text": [
      "how to be mindful when you are angry district are right\n"
     ]
    }
   ],
   "source": [
    "print(sentence_generation(model, t, 'how', 10))\n",
    "# 임의의 단어 'how'에 대해서 10개의 단어를 추가 생성"
   ]
  }
 ],
 "metadata": {
  "accelerator": "GPU",
  "colab": {
   "name": "Generation_text_LSTM.ipynb",
   "provenance": []
  },
  "kernelspec": {
   "display_name": "Python 3",
   "language": "python",
   "name": "python3"
  },
  "language_info": {
   "codemirror_mode": {
    "name": "ipython",
    "version": 3
   },
   "file_extension": ".py",
   "mimetype": "text/x-python",
   "name": "python",
   "nbconvert_exporter": "python",
   "pygments_lexer": "ipython3",
   "version": "3.7.7"
  }
 },
 "nbformat": 4,
 "nbformat_minor": 4
}
